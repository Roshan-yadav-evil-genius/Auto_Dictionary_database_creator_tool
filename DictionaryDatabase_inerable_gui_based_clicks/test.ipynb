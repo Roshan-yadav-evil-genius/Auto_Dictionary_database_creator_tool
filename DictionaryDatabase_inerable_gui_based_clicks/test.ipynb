{
 "cells": [
  {
   "cell_type": "code",
   "execution_count": 6,
   "metadata": {},
   "outputs": [],
   "source": [
    "import sqlite3\n",
    "import pyautogui\n",
    "import time\n",
    "import clipboard\n",
    "from pynput.keyboard import Key,Controller\n",
    "import colorama\n"
   ]
  },
  {
   "cell_type": "code",
   "execution_count": 7,
   "metadata": {},
   "outputs": [],
   "source": [
    "keyboard=Controller()\n",
    "def refresh_Page():\n",
    "    refreshed = pyautogui.locateOnScreen('images/refresh/refresh.png',confidence=0.8)\n",
    "    pyautogui.click(x=(refreshed[0]+15), y=(refreshed[1]+13))\n",
    "\n",
    "def refresh_Check():\n",
    "    a = pyautogui.locateOnScreen('images/refresh/window.png',confidence=0.5)\n",
    "    b = pyautogui.locateOnScreen('images/refresh/windowC.png',confidence=0.5)\n",
    "    if a or b:\n",
    "        return True\n",
    "    else:\n",
    "        return False\n",
    "\n",
    "def Refresh():\n",
    "    a=0\n",
    "    process = False\n",
    "    while not process:\n",
    "        if a%5==0:\n",
    "            refresh_Page()\n",
    "        process = refresh_Check()\n",
    "        a+=1\n",
    "        time.sleep(1)\n",
    "    return True\n",
    "\n",
    "def Write(data):\n",
    "    a = pyautogui.locateOnScreen('images/keyboard.png',confidence=0.6)\n",
    "    pyautogui.click(a[0],a[1]-30)\n",
    "    pyautogui.write(f'{data}')\n",
    "    keyboard.press(Key.enter)\n",
    "    keyboard.release(Key.enter)\n",
    "\n",
    "def copy():\n",
    "    a = False\n",
    "    while not a:\n",
    "        try:\n",
    "            Blue = pyautogui.locateOnScreen(\n",
    "                'images/copyBlue.png', confidence=0.9)\n",
    "            Black = pyautogui.locateOnScreen(\n",
    "                'images/copyBlack.png', confidence=0.9)\n",
    "            if Blue == None:\n",
    "                a = Black[0:2]\n",
    "            else:\n",
    "                a = Blue[0:2]\n",
    "            pyautogui.click(x=a[0]+15, y=a[1]+15)\n",
    "            a = True\n",
    "        except:\n",
    "            continue\n",
    "\n",
    "\n",
    "def removetext():\n",
    "    a = pyautogui.locateOnScreen('images/cross.png',confidence=0.9)\n",
    "    if a!=None:\n",
    "        pyautogui.click(a[0]+15, a[1]+10)\n",
    "\n"
   ]
  },
  {
   "cell_type": "code",
   "execution_count": 8,
   "metadata": {},
   "outputs": [],
   "source": [
    "conn = sqlite3.connect('Dictionary.db')\n",
    "c = conn.cursor()\n",
    "\n",
    "c.execute('SELECT `key`, valueHin FROM Dictionary')\n",
    "data = c.fetchall()\n"
   ]
  },
  {
   "cell_type": "code",
   "execution_count": 9,
   "metadata": {},
   "outputs": [
    {
     "name": "stdout",
     "output_type": "stream",
     "text": [
      "\u001b[31m11643 Writing...\u001b[0m\u001b[32mDone / \u001b[31mCopying...\u001b[32mDone / \u001b[34m('bon ton', None) : बॉन टन\u001b[0m\n",
      "\u001b[31m11644 Writing...\u001b[0m\u001b[32mDone / \u001b[31mCopying...\u001b[32mDone / \u001b[34m('bonuses', None) : बोनस\u001b[0m\n",
      "\u001b[31m11645 Writing...\u001b[0m\u001b[32mDone / \u001b[31mCopying...\u001b[32mDone / \u001b[34m('bonus', None) : बक्शीश\u001b[0m\n",
      "\u001b[31m11646 Writing...\u001b[0m\u001b[32mDone / \u001b[31mCopying...\u001b[32mDone / \u001b[34m('bons vivants', None) : बॉन्स विवेंट्स\u001b[0m\n",
      "\u001b[31m11647 Writing...\u001b[0m\u001b[32mDone / \u001b[31mCopying..."
     ]
    }
   ],
   "source": [
    "for i,x in enumerate(data):\n",
    "      if x[1]==None:\n",
    "            if i%20==0:\n",
    "                  print(colorama.Fore.BLUE+f'{i} Refreshing...',end='')\n",
    "                  conn.close()\n",
    "                  Refresh()\n",
    "                  print(colorama.Fore.GREEN+f'Done',\n",
    "                        sep=colorama.Style.RESET_ALL)\n",
    "            removetext()\n",
    "            print(colorama.Fore.RED+f'{i} Writing...', '',\n",
    "                  sep=colorama.Style.RESET_ALL, end='')\n",
    "            Write(f\"{x[0]}\")\n",
    "            print(colorama.Fore.GREEN+f'Done / ', sep=colorama.Style.RESET_ALL,end='')\n",
    "            print(colorama.Fore.RED+f'Copying...', sep=colorama.Style.RESET_ALL, end='')\n",
    "            copy()\n",
    "            print(colorama.Fore.GREEN+f'Done / ',\n",
    "                  sep=colorama.Style.RESET_ALL, end='')\n",
    "            removetext()\n",
    "            hindi=clipboard.paste()\n",
    "            update = f\"\"\"Update Dictionary set valueHin = '{hindi}' where id = {i+1}\"\"\"\n",
    "            c.execute(update)\n",
    "            conn.commit()\n",
    "            print(colorama.Fore.BLUE+f'{x} : {hindi}','',sep=colorama.Style.RESET_ALL)\n",
    "            time.sleep(2)"
   ]
  }
 ],
 "metadata": {
  "interpreter": {
   "hash": "7f0fdcd0e456cdd908f2510bf50f1555249e63388ddeac6203be5a46a261265a"
  },
  "kernelspec": {
   "display_name": "Python 3.10.0 64-bit",
   "name": "python3"
  },
  "language_info": {
   "codemirror_mode": {
    "name": "ipython",
    "version": 3
   },
   "file_extension": ".py",
   "mimetype": "text/x-python",
   "name": "python",
   "nbconvert_exporter": "python",
   "pygments_lexer": "ipython3",
   "version": "3.9.8"
  },
  "orig_nbformat": 4
 },
 "nbformat": 4,
 "nbformat_minor": 2
}
